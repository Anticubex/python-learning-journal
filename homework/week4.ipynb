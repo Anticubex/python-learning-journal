{
 "cells": [
  {
   "cell_type": "markdown",
   "metadata": {},
   "source": [
    "# Week 4 Homework\n",
    "\n",
    "Assignment specification:\n",
    "> #### Objective:\n",
    "> \n",
    "> This assignment will allow students to pick a sorting algorithm, implement it in Python, and analyze its performance by measuring the time taken to sort arrays of various sizes under worst-case conditions.\n",
    "\n",
    "I will implement merge sort."
   ]
  },
  {
   "cell_type": "code",
   "execution_count": 4,
   "metadata": {},
   "outputs": [],
   "source": [
    "from typing import List, Generator\n",
    "\n",
    "def merge_sort(nums: List[int]) -> Generator[int, None, None]:\n",
    "    if len(nums) <= 1:\n",
    "        yield from nums\n",
    "        return\n",
    "\n",
    "    # Split and sort\n",
    "    s = len(nums) // 2\n",
    "    A = merge_sort(nums[:s])\n",
    "    B = merge_sort(nums[s:])\n",
    "\n",
    "    # We know there's at least 1 item in any recursed array, so this is always safe\n",
    "    vA = next(A)\n",
    "    vB = next(B)\n",
    "    while True:\n",
    "        if vA <= vB:\n",
    "            yield vA\n",
    "            try:\n",
    "                vA = next(A)\n",
    "            except StopIteration:\n",
    "                yield vB\n",
    "                yield from B\n",
    "                return\n",
    "        else:\n",
    "            yield vB\n",
    "            try:\n",
    "                vB = next(B)\n",
    "            except StopIteration:\n",
    "                yield vA\n",
    "                yield from A\n",
    "                return"
   ]
  },
  {
   "cell_type": "code",
   "execution_count": 5,
   "metadata": {},
   "outputs": [
    {
     "name": "stdout",
     "output_type": "stream",
     "text": [
      "[1, 2, 3, 4]\n",
      "[1, 2, 3, 4]\n",
      "[]\n",
      "[18]\n",
      "[2, 3, 18, 34, 56]\n"
     ]
    }
   ],
   "source": [
    "# Some Test Cases\n",
    "print(list(merge_sort([1, 2, 3, 4])))  # [1, 2, 3, 4]\n",
    "print(list(merge_sort([4, 3, 2, 1])))  # [1, 2, 3, 4]\n",
    "print(list(merge_sort([]))) # []\n",
    "print(list(merge_sort([18])))  # [18]\n",
    "print(list(merge_sort([18, 34, 3, 56, 2])))  # [2, 3, 18, 34, 56]"
   ]
  },
  {
   "cell_type": "markdown",
   "metadata": {},
   "source": [
    "### Worst case performance testing\n",
    "\n",
    "First, we create a function that both generates worst-cases and measures their performance.<br>\n",
    "The worst-case for merge sort is an inverted list."
   ]
  },
  {
   "cell_type": "code",
   "execution_count": 6,
   "metadata": {},
   "outputs": [],
   "source": [
    "import time\n",
    "\n",
    "def worst_case_test(n: int) -> float:\n",
    "    array = list(range(n,0,-1))\n",
    "    start = time.time()\n",
    "    list(merge_sort(array))\n",
    "    end = time.time()\n",
    "    return end - start"
   ]
  },
  {
   "cell_type": "markdown",
   "metadata": {},
   "source": [
    "So we run and display using matplotlib (I saved the graphs)\n",
    "\n",
    "![performance_chart](week4graph.png)"
   ]
  }
 ],
 "metadata": {
  "kernelspec": {
   "display_name": "Python 3",
   "language": "python",
   "name": "python3"
  },
  "language_info": {
   "codemirror_mode": {
    "name": "ipython",
    "version": 3
   },
   "file_extension": ".py",
   "mimetype": "text/x-python",
   "name": "python",
   "nbconvert_exporter": "python",
   "pygments_lexer": "ipython3",
   "version": "3.12.9"
  }
 },
 "nbformat": 4,
 "nbformat_minor": 2
}
