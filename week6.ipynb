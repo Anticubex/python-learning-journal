{
 "cells": [
  {
   "cell_type": "code",
   "execution_count": null,
   "metadata": {},
   "outputs": [],
   "source": [
    "class LinkedList:\n",
    "    def _init__(self):\n",
    "        self.head = None\n",
    "        self.size = 0\n",
    "    def getLength(self):\n",
    "        return self.size\n",
    "    def prepend(self, data):\n",
    "        newNode = Node(data)\n",
    "        newNode.next = self.head\n",
    "        self.head = newNode\n",
    "        self.size = 1\n",
    "    def append(self, data):\n",
    "        self.size += 1\n",
    "        ptr = self.head\n",
    "        if ptr is None:\n",
    "            self.head = Node(data)\n",
    "            self.head.next = None\n",
    "            return\n",
    "        \n",
    "        while ptr.next is not None:\n",
    "            ptr = ptr.next\n",
    "        ptr.next = Node(data)\n",
    "        ptr.next.next = None\n",
    "\n",
    "\n",
    "    def search(self, target):\n",
    "        ptr = self.head\n",
    "        while ptr is not None:\n",
    "            if ptr.data == target:\n",
    "                return ptr\n",
    "            ptr = ptr.next\n",
    "        return None\n",
    "\n",
    "    def display(self):\n",
    "        ptr = self.head\n",
    "        while ptr is not None:\n",
    "            print(ptr)\n",
    "            ptr = ptr.next"
   ]
  }
 ],
 "metadata": {
  "language_info": {
   "name": "python"
  }
 },
 "nbformat": 4,
 "nbformat_minor": 2
}
