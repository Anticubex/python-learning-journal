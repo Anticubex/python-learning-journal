{
 "cells": [
  {
   "cell_type": "markdown",
   "metadata": {},
   "source": [
    "### Lecture:"
   ]
  },
  {
   "cell_type": "markdown",
   "metadata": {},
   "source": [
    "Username and Password System"
   ]
  },
  {
   "cell_type": "code",
   "execution_count": null,
   "metadata": {},
   "outputs": [],
   "source": [
    "\n",
    "with open(\"passwords.txt\", \"r\") as passes:\n",
    "    passwords = {user: password for user, password in (line.split(\";\") for line in passes.readlines())}\n",
    "\n",
    "print(\"Enter Username: \")\n",
    "username = input()\n",
    "print(\"Enter Password: \")\n",
    "password = input()\n",
    "\n",
    "if passwords[username] == password:\n",
    "    print(\"Successfully logged in!\")\n"
   ]
  },
  {
   "cell_type": "markdown",
   "metadata": {},
   "source": [
    "Vertical Number Printing,\n",
    "Using Recursion"
   ]
  },
  {
   "cell_type": "code",
   "execution_count": 3,
   "metadata": {},
   "outputs": [
    {
     "name": "stdout",
     "output_type": "stream",
     "text": [
      "1\n",
      "2\n",
      "3\n",
      "4\n"
     ]
    }
   ],
   "source": [
    "def print_vertical(n: int):\n",
    "    if (new := n // 10) > 0:\n",
    "        print_vertical(new)\n",
    "    print(n % 10)\n",
    "\n",
    "print_vertical(1234)"
   ]
  },
  {
   "cell_type": "markdown",
   "metadata": {},
   "source": [
    "Fibonacci Numbers Recursively"
   ]
  },
  {
   "cell_type": "code",
   "execution_count": 2,
   "metadata": {},
   "outputs": [
    {
     "name": "stdout",
     "output_type": "stream",
     "text": [
      "1\n",
      "2\n",
      "3\n",
      "4181\n"
     ]
    }
   ],
   "source": [
    "def fibonacci(n):\n",
    "    match (n):\n",
    "        case 0:\n",
    "            return 0\n",
    "        case 1:\n",
    "            return 1\n",
    "        case _:\n",
    "            return fibonacci(n - 2) + fibonacci(n - 1)\n",
    "\n",
    "print(fibonacci(1))\n",
    "print(fibonacci(2))\n",
    "print(fibonacci(3))\n",
    "print(fibonacci(18))"
   ]
  },
  {
   "cell_type": "code",
   "execution_count": 3,
   "metadata": {},
   "outputs": [
    {
     "name": "stdout",
     "output_type": "stream",
     "text": [
      "Round #1\n",
      "Rock... Paper... Scissors...\n"
     ]
    }
   ],
   "source": [
    "from random import choice\n",
    "\n",
    "\n",
    "def setup(depth=1):\n",
    "    print(f\"Round #{depth}\")\n",
    "    print(\"Rock... Paper... Scissors...\")\n",
    "\n",
    "\n",
    "OPTIONS = {\"rock\": \"paper\", \"paper\": \"scissors\", \"scissors\": \"rock\"}\n",
    "\n",
    "\n",
    "def run_game(depth):\n",
    "    while True:\n",
    "        player = input(\"Shoot: \")\n",
    "        if player in OPTIONS:\n",
    "            break\n",
    "        print(\n",
    "            \"Invalid! Please type \"\n",
    "            + \", \".join(option for option, beats in OPTIONS.items())\n",
    "        )\n",
    "\n",
    "    computer = choice(option for option, beats in OPTIONS.items())\n",
    "    print(\"Computer chose\", computer)\n",
    "\n",
    "    if player == computer:\n",
    "        print(\"It's a tie!\")\n",
    "        setup(depth + 1)\n",
    "        return\n",
    "    elif OPTIONS[player] == computer:\n",
    "        print(\"You won!\")\n",
    "    else:\n",
    "        print(\"Computer won!\")\n",
    "\n",
    "    print(\"Game over after\", depth, \"rounds!\")\n",
    "\n",
    "setup()"
   ]
  }
 ],
 "metadata": {
  "kernelspec": {
   "display_name": "Python 3",
   "language": "python",
   "name": "python3"
  },
  "language_info": {
   "codemirror_mode": {
    "name": "ipython",
    "version": 3
   },
   "file_extension": ".py",
   "mimetype": "text/x-python",
   "name": "python",
   "nbconvert_exporter": "python",
   "pygments_lexer": "ipython3",
   "version": "3.12.9"
  }
 },
 "nbformat": 4,
 "nbformat_minor": 2
}
