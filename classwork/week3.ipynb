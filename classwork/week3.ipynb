{
 "cells": [
  {
   "cell_type": "code",
   "execution_count": null,
   "metadata": {},
   "outputs": [],
   "source": [
    "def linear_search(data: List[Any], target: Any) -> int:\n",
    "    for i, val in enumerate(data):\n",
    "        if val == target:\n",
    "            return i\n",
    "    return -1"
   ]
  },
  {
   "cell_type": "code",
   "execution_count": null,
   "metadata": {},
   "outputs": [],
   "source": [
    "def recursive_binary_search(data: List[int], target: int) -> int:\n",
    "    if len(data) == 0:\n",
    "        return -1\n",
    "    pivot = len(data) // 2\n",
    "    if target == data[pivot]:\n",
    "        return pivot\n",
    "    elif target < data[pivot]:\n",
    "        return recursive_binary_search(data[:pivot], target)\n",
    "    elif target > data[pivot]:\n",
    "        return recursive_binary_search(data[pivot:], target)"
   ]
  }
 ],
 "metadata": {
  "language_info": {
   "name": "python"
  }
 },
 "nbformat": 4,
 "nbformat_minor": 2
}
