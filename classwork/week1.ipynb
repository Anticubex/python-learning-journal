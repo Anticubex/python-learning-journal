{
 "cells": [
  {
   "cell_type": "markdown",
   "metadata": {},
   "source": [
    "# Advanced Python Class Notebook\n",
    "### Week 1\n",
    "\n",
    "---\n",
    "\n",
    "This Notebook follows the code I've made in week one of my advanced python course"
   ]
  },
  {
   "cell_type": "markdown",
   "metadata": {},
   "source": [
    "\n",
    "#### Pokemon Class\n",
    "\n",
    "A sample class demonstrating basic OOP principles, using the example of pokemon\n"
   ]
  },
  {
   "cell_type": "code",
   "execution_count": 1,
   "metadata": {},
   "outputs": [],
   "source": [
    "class Pokemon:\n",
    "\n",
    "    def __init__(\n",
    "        self,\n",
    "        name,\n",
    "        curr_hp,\n",
    "        max_hp,\n",
    "        pokedex,\n",
    "        og_trainer,\n",
    "        pokemon_type,\n",
    "        sp_atk,\n",
    "        sp_def,\n",
    "        atk,\n",
    "        defense,\n",
    "        speed,\n",
    "    ):\n",
    "        self.name = name\n",
    "        self.hp = curr_hp\n",
    "        self.max_hp = max_hp\n",
    "        self.pokedex = pokedex\n",
    "        self.og_trainer = og_trainer\n",
    "        self.pokemon_type = pokemon_type\n",
    "        self.sp_atk = sp_atk\n",
    "        self.sp_def = sp_def\n",
    "        self.atk = atk\n",
    "        self.defense = defense\n",
    "        self.speed = speed\n",
    "\n",
    "    def setHP(self, newHP):\n",
    "        if newHP < 0:\n",
    "            print(\"HP must be non-negative\")\n",
    "            return\n",
    "        if newHP > self.max_hp:\n",
    "            print(\"New HP higher than max HP! Setting to max...\")\n",
    "        self.hp = min(newHP, self.max_hp)\n",
    "\n",
    "    def attack(self, opponent):\n",
    "        opponent.setHP(opponent.hp - max(self.atk - opponent.defense, 0))\n",
    "\n",
    "    def print_info(self):\n",
    "        print(\"Name: \", self.name)\n",
    "        print(f\"HP: {self.hp}/{self.maxHP}\")"
   ]
  }
 ],
 "metadata": {
  "kernelspec": {
   "display_name": "Python 3",
   "language": "python",
   "name": "python3"
  },
  "language_info": {
   "codemirror_mode": {
    "name": "ipython",
    "version": 3
   },
   "file_extension": ".py",
   "mimetype": "text/x-python",
   "name": "python",
   "nbconvert_exporter": "python",
   "pygments_lexer": "ipython3",
   "version": "3.12.8"
  }
 },
 "nbformat": 4,
 "nbformat_minor": 2
}
