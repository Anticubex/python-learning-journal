{
 "cells": [
  {
   "cell_type": "code",
   "execution_count": null,
   "metadata": {},
   "outputs": [],
   "source": [
    "class HashTable: \n",
    "    def __init__(self, size=10): \n",
    "        self.size = size \n",
    "        self.table = [None] * self.size \n",
    "    def hashFunction(self, key): \n",
    "        return abs (hash(key)) % self.size \n",
    "    def insert(self, key, value): \n",
    "        start = self.hashFunction(key)\n",
    "        if self.table[start] is None:\n",
    "            self.table[start] = (key, value)\n",
    "            return True\n",
    "        look = start + 1\n",
    "        while look != start:\n",
    "            if look >= self.size:\n",
    "                look = 0\n",
    "                continue\n",
    "            if self.table[look] is None:\n",
    "                self.table[look] = (key, value)\n",
    "                return True\n",
    "            look += 1\n",
    "        return False\n",
    "    def get(self, key):\n",
    "        hashed = self.hashFunction(key)\n",
    "        start = hashed\n",
    "        while self.table[start] is not None:\n",
    "            table_key, table_value = self.table[hashed]\n",
    "            if table_key == hashed:\n",
    "                return table_value\n",
    "            start += 1 % self.size\n",
    "            if start == hashed:\n",
    "                return None\n",
    "        return None\n"
   ]
  }
 ],
 "metadata": {
  "language_info": {
   "name": "python"
  }
 },
 "nbformat": 4,
 "nbformat_minor": 2
}
